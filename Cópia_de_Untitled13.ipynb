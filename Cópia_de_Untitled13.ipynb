{
  "nbformat": 4,
  "nbformat_minor": 0,
  "metadata": {
    "colab": {
      "provenance": [],
      "include_colab_link": true
    },
    "kernelspec": {
      "name": "python3",
      "display_name": "Python 3"
    },
    "language_info": {
      "name": "python"
    }
  },
  "cells": [
    {
      "cell_type": "markdown",
      "metadata": {
        "id": "view-in-github",
        "colab_type": "text"
      },
      "source": [
        "<a href=\"https://colab.research.google.com/github/uPistola/uPistola.github.io/blob/main/C%C3%B3pia_de_Untitled13.ipynb\" target=\"_parent\"><img src=\"https://colab.research.google.com/assets/colab-badge.svg\" alt=\"Open In Colab\"/></a>"
      ]
    },
    {
      "cell_type": "markdown",
      "source": [
        "Seu trabalho será criar um aplicativo usando como base a Linguagem Python para ser executada no\n",
        "Google Colaboratory. Este aplicativo deve receber Fórmulas escritas em Lógica de Primeiro Grau\n",
        "usando Latex, validar estas expressões e produzir as fórmulas equivalentes escritos segundo as\n",
        "formas normais conjuntiva e disjuntiva.\n",
        "As fórmulas que serão processadas serão lidas de um arquivo de textos contendo, no mínimo, 5\n",
        "fórmulas bem formadas. Nestas cinco fórmulas devem estar representados todos os operadores e\n",
        "quantificadores da Lógica de Primeira Ordem.\n",
        "Todas as impressões, devem ser feitas em Latex. Além disso, todas as fórmulas bem formadas,\n",
        "estejam na forma normal, ou não, devem estar em notação matemática em todas as telas de saída."
      ],
      "metadata": {
        "id": "p_0BlXnnRAKw"
      }
    },
    {
      "cell_type": "markdown",
      "source": [
        "Henrique Zan Grande\n",
        "\n",
        "João Gabriel Pitol\n",
        "\n",
        "Lucas Braga Schuck\n",
        "\n",
        "Rafael Vargas"
      ],
      "metadata": {
        "id": "97EyDOgIRXbc"
      }
    },
    {
      "cell_type": "code",
      "source": [
        "import re\n",
        "import matplotlib.pyplot as plt\n",
        "from IPython.display import display, Math\n",
        "import itertools"
      ],
      "metadata": {
        "id": "fL9O-8sUyt4L"
      },
      "execution_count": null,
      "outputs": []
    },
    {
      "cell_type": "code",
      "source": [
        "# Ler as fórmulas de um arquivo\n",
        "def ler_formulas_do_arquivo(arquivo):\n",
        "    with open(arquivo, 'r') as f:\n",
        "        formulas = f.readlines()\n",
        "    return [formula.strip() for formula in formulas]\n",
        "\n",
        "arquivo = ler_formulas_do_arquivo(\"arquivo.txt\")\n"
      ],
      "metadata": {
        "id": "aGpI1F9hxP6x"
      },
      "execution_count": null,
      "outputs": []
    },
    {
      "cell_type": "code",
      "source": [
        "latex_to_symbol = {\n",
        "    r'\\wedge': '∧',\n",
        "    r'\\vee': '∨',\n",
        "    r'\\neg': '¬',\n",
        "    r'\\rightarrow': '→',\n",
        "    r'\\leftrightarrow': '↔',\n",
        "    r'\\forall': '∀',\n",
        "    r'\\exists': '∃',\n",
        "}\n",
        "\n",
        "def converter_para_latex(texto):\n",
        "    for latex, symbol in latex_to_symbol.items():\n",
        "        texto = texto.replace(latex, symbol)\n",
        "    return texto\n",
        "formulas_convertidas=[]\n",
        "for formulas in arquivo:\n",
        "  formula_latex = converter_para_latex(formulas)\n",
        "  formulas_convertidas.append(formula_latex)"
      ],
      "metadata": {
        "id": "4ayBexUHzL0W"
      },
      "execution_count": null,
      "outputs": []
    },
    {
      "cell_type": "code",
      "source": [
        "def mostrar_formula(lista_formulas):\n",
        "  for formula in lista_formulas:\n",
        "    formula_latex = converter_para_latex(formula)\n",
        "    display(Math(formula_latex))"
      ],
      "metadata": {
        "id": "xHoLNJuB1iof"
      },
      "execution_count": null,
      "outputs": []
    },
    {
      "cell_type": "code",
      "source": [
        "def validar_formulas_bem_formadas(formulas):\n",
        "    for formula in formulas:\n",
        "        if not validar_sintaxe(formula):\n",
        "            return False\n",
        "    return True\n",
        "\n",
        "def validar_sintaxe(formula):\n",
        "    # Verifica correspondência de parênteses\n",
        "    if formula.count('(') != formula.count(')'):\n",
        "        return False\n",
        "\n",
        "    return True\n",
        "\n",
        "if validar_formulas_bem_formadas(formulas_convertidas):\n",
        "    print(\"Todas as fórmulas estão bem formadas.\")\n",
        "else:\n",
        "    print(\"Alguma das fórmulas não está bem formada.\")"
      ],
      "metadata": {
        "id": "vN36q3c82iCF",
        "colab": {
          "base_uri": "https://localhost:8080/"
        },
        "outputId": "c931d270-f452-484c-eb7a-3af624deca19"
      },
      "execution_count": null,
      "outputs": [
        {
          "output_type": "stream",
          "name": "stdout",
          "text": [
            "Todas as fórmulas estão bem formadas.\n"
          ]
        }
      ]
    },
    {
      "cell_type": "code",
      "source": [
        "def separar_quantificadores_e_restante(formula):\n",
        "    quantificadores = \"\"\n",
        "    resto = formula\n",
        "\n",
        "    match = re.match(r'^(∀\\w+|∃\\w+)+', formula)\n",
        "    if match:\n",
        "        quantificadores = match.group(0)\n",
        "        resto = formula[len(quantificadores):].strip()\n",
        "\n",
        "    return quantificadores, resto\n",
        "\n",
        "def combinar_quantificadores(quantificadores, formula):\n",
        "    return quantificadores+ \":\"+ formula\n"
      ],
      "metadata": {
        "id": "-yR6m5jF2zm-"
      },
      "execution_count": null,
      "outputs": []
    },
    {
      "cell_type": "code",
      "source": [
        "def eliminar_implicacoes(formula):\n",
        "    index = formula.find('→')\n",
        "    while index != -1:\n",
        "        # Encontre o antecedente (parte esquerda da implicação)\n",
        "        antecedente_inicio = index - 1\n",
        "        abre_parenteses = fecha_parenteses = 0\n",
        "\n",
        "        quantificadores = ['∀', '∃']\n",
        "        has_quantifier = any(q in formula[:index] for q in quantificadores)\n",
        "\n",
        "        while antecedente_inicio >= 0 and (formula[antecedente_inicio] not in '∧∨¬(' or abre_parenteses != fecha_parenteses):\n",
        "            if formula[antecedente_inicio] == '(':\n",
        "                fecha_parenteses += 1\n",
        "            elif formula[antecedente_inicio] == ')':\n",
        "                abre_parenteses += 1\n",
        "            antecedente_inicio -= 1\n",
        "\n",
        "        antecedente_inicio += 1\n",
        "\n",
        "        # Encontre o consequente (parte direita da implicação)\n",
        "        consequente_fim = index + 2\n",
        "        abre_parenteses = fecha_parenteses = 0\n",
        "\n",
        "        while consequente_fim < len(formula) and (formula[consequente_fim] not in '∧∨¬()' or abre_parenteses != fecha_parenteses):\n",
        "            if formula[consequente_fim] == '(':\n",
        "                fecha_parenteses += 1\n",
        "            elif formula[consequente_fim] == ')':\n",
        "                abre_parenteses += 1\n",
        "            consequente_fim += 1\n",
        "\n",
        "        # Substitua a implicação pelo equivalente\n",
        "        antecedente = formula[antecedente_inicio:index].strip()\n",
        "        consequente = formula[index + 2:consequente_fim].strip()\n",
        "        formula = formula[:antecedente_inicio] + f\"¬{antecedente} ∨ {consequente}\" + formula[consequente_fim:]\n",
        "\n",
        "        index = formula.find('→')\n",
        "\n",
        "    return formula\n",
        "\n"
      ],
      "metadata": {
        "id": "ezy8vp3O37tM"
      },
      "execution_count": null,
      "outputs": []
    },
    {
      "cell_type": "code",
      "source": [
        "def aplicar_de_morgan(formula):\n",
        "    while re.search(r'¬\\(([^)]+)∧([^)]+)\\)', formula):\n",
        "        formula = re.sub(r'¬\\(([^)]+)∧([^)]+)\\)', r'¬ \\1∨ ¬\\2', formula)\n",
        "\n",
        "    while re.search(r'¬\\(([^)]+)∨([^)]+)\\)', formula):\n",
        "        formula = re.sub(r'¬\\(([^)]+)∨([^)]+)\\)', r'¬ \\1∧ ¬\\2', formula)\n",
        "\n",
        "    return formula\n",
        "\n"
      ],
      "metadata": {
        "id": "ah0ZNSzgQQM1"
      },
      "execution_count": null,
      "outputs": []
    },
    {
      "cell_type": "code",
      "source": [
        "def eliminar_bi_implicacoes(formula):\n",
        "    # Combinando todas as possibilidades para a bi-condicional.\n",
        "    formula = re.sub(r'(\\w+)\\s*↔\\s*(\\w+)',r'(\\1 → \\2) ∧ (\\2 → \\1)', formula)\n",
        "    formula = re.sub(r'(\\w+)\\s*↔\\s*\\(([^)]+)\\)', r'(\\1 → \\2) ∧ ((\\2) → (\\1))', formula)\n",
        "    formula = re.sub(r'\\(([^)]+)\\)\\s*↔\\s*(\\w+)', r'((\\1) → (\\2)) ∧ (\\2 → \\1)', formula)\n",
        "    formula = re.sub(r'\\(([^)]+)\\)\\s*↔\\s*\\(([^)]+)\\)', r'¬ (\\1) ∨ (\\2)', formula)\n",
        "    formula = re.sub(r'(\\w+)\\s*↔\\s*(\\w+)', r'(\\1 → \\2) ∧ (\\2 → \\1)', formula)\n",
        "\n",
        "\n",
        "    return formula\n"
      ],
      "metadata": {
        "id": "Bo_2AAoFbMls"
      },
      "execution_count": null,
      "outputs": []
    },
    {
      "cell_type": "code",
      "source": [
        "def eliminar_negacoes(formula):\n",
        "    # Eliminando a dupla negação\n",
        "    while re.search(r'¬\\s*¬', formula):\n",
        "        formula = re.sub(r'¬\\s*¬\\s*([A-Za-z][A-Za-z0-9]*)', r'\\1', formula)\n",
        "        formula = re.sub(r'¬\\s*¬\\s*\\(([^)]+)\\)', r'\\1', formula)\n",
        "    return formula"
      ],
      "metadata": {
        "id": "66-H7koiZ8vB"
      },
      "execution_count": null,
      "outputs": []
    },
    {
      "cell_type": "code",
      "source": [
        "def distribuir(formula):\n",
        "    changed = True\n",
        "    while changed:\n",
        "        changed = False\n",
        "\n",
        "        # Procura por padrões específicos que podem ser distribuídos\n",
        "        patterns = [\n",
        "            (r'\\(([^)]+)\\)\\s*∧\\s*\\(([^)]+)\\)\\s*∧\\s*(\\w+)', r'(\\1 ∧ \\3) ∧ (\\2 ∧ \\3)'),\n",
        "            (r'(\\w+)\\s*∧\\s*\\(([^)]+)\\)\\s*∧\\s*\\(([^)]+)\\)', r'(\\1 ∧ \\2) ∧ (\\1 ∧ \\3)'),\n",
        "            (r'\\(([^)]+)\\)\\s*∧\\s*(\\w+)\\s*∧\\s*\\(([^)]+)\\)', r'(\\1 ∧ \\3) ∧ (\\2 ∧ \\3)'),\n",
        "            (r'(\\w+)\\s*∧\\s*(\\w+)\\s*∧\\s*\\(([^)]+)\\)', r'(\\1 ∧ \\3) ∧ (\\2 ∧ \\3)'),\n",
        "            (r'\\(([^)]+)\\)\\s*∨\\s*\\(([^)]+)\\)\\s*∨\\s*(\\w+)', r'(\\1 ∨ \\3) ∨ (\\2 ∨ \\3)'),\n",
        "            (r'(\\w+)\\s*∨\\s*\\(([^)]+)\\)\\s*∨\\s*\\(([^)]+)\\)', r'(\\1 ∨ \\2) ∨ (\\1 ∨ \\3)'),\n",
        "            (r'\\(([^)]+)\\)\\s*∨\\s*(\\w+)\\s*∨\\s*\\(([^)]+)\\)', r'(\\1 ∨ \\3) ∨ (\\2 ∨ \\3)'),\n",
        "            (r'(\\w+)\\s*∨\\s*(\\w+)\\s*∨\\s*\\(([^)]+)\\)', r'(\\1 ∨ \\3) ∨ (\\2 ∨ \\3)')\n",
        "        ]\n",
        "\n",
        "        for pattern, replacement in patterns:\n",
        "            new_formula = re.sub(pattern, replacement, formula)\n",
        "            if new_formula != formula:\n",
        "                formula = new_formula\n",
        "                changed = True\n",
        "                break\n",
        "\n",
        "    return formula"
      ],
      "metadata": {
        "id": "8oLLkclkawlw"
      },
      "execution_count": null,
      "outputs": []
    },
    {
      "cell_type": "code",
      "source": [
        "def distribuir_para_fnc(formula) :\n",
        "    changed = True\n",
        "    while changed :\n",
        "        changed = False\n",
        "\n",
        "        # Distribuir ∨ sobre ∧ para obter FNC\n",
        "        patterns = [\n",
        "            (r'\\((\\w)\\s*∨\\s*\\((\\w)\\s*∧\\s*(\\w)\\)\\)', r'((\\1 ∨ \\2) ∧ (\\1 ∨ \\3))'),\n",
        "                (r'\\((\\w)\\s*∧\\s*(\\w)\\)\\s*∨\\s*(\\w)', r'((\\1 ∨ \\3) ∧ (\\2 ∨ \\3))'),\n",
        "                (r'(\\w)\\s*∨\\s*\\((\\w)\\s*∧\\s*(\\w)\\)', r'((\\1 ∨ \\2) ∧ (\\1 ∨ \\3))')\n",
        "        ]\n",
        "\n",
        "        for pattern, replacement in patterns:\n",
        "            new_formula = re.sub(pattern, replacement, formula)\n",
        "            if new_formula != formula:\n",
        "                formula = new_formula\n",
        "                changed = True\n",
        "                break\n",
        "\n",
        "    return formula\n",
        "\n",
        "def distribuir_para_fnd(formula):\n",
        "    changed = True\n",
        "    while changed:\n",
        "        changed = False\n",
        "\n",
        "\n",
        "\n",
        "        # Distribuir ∧ sobre ∨ para obter FND\n",
        "        patterns = [\n",
        "            (r'\\((\\w)\\s*∧\\s*\\((\\w)\\s*∨\\s*(\\w)\\)\\)', r'((\\1 ∧ \\2) ∨ (\\1 ∧ \\3))'),\n",
        "                (r'\\((\\w)\\s*∨\\s*(\\w)\\)\\s*∧\\s*(\\w)', r'((\\1 ∧ \\3) ∨ (\\2 ∧ \\3))'),\n",
        "                (r'(\\w)\\s*∧\\s*\\((\\w)\\s*∨\\s*(\\w)\\)', r'((\\1 ∧ \\2) ∨ (\\1 ∧ \\3))')\n",
        "        ]\n",
        "\n",
        "        for pattern, replacement in patterns:\n",
        "            new_formula = re.sub(pattern, replacement, formula)\n",
        "            if new_formula != formula:\n",
        "                formula = new_formula\n",
        "                changed = True\n",
        "                break\n",
        "\n",
        "    return formula\n",
        "\n",
        "def forma_normal_conjuntiva(formula):\n",
        "    formula = forma_normal(formula)\n",
        "    formula = distribuir_para_fnc(formula)\n",
        "    return formula\n",
        "\n",
        "def forma_normal_disjuntiva(formula):\n",
        "    formula = forma_normal(formula)\n",
        "    formula = distribuir_para_fnd(formula)\n",
        "    return formula"
      ],
      "metadata": {
        "id": "4x-fPFxEO71i"
      },
      "execution_count": null,
      "outputs": []
    },
    {
      "cell_type": "code",
      "source": [
        "def forma_normal(formula):\n",
        "\n",
        "    # Eliminar bi-implicações\n",
        "    formula = eliminar_bi_implicacoes(formula)\n",
        "\n",
        "\n",
        "    # Eliminar implicações\n",
        "    formula = eliminar_implicacoes(formula)\n",
        "\n",
        "    # Aplicar leis de De Morgan\n",
        "    formula = aplicar_de_morgan(formula)\n",
        "\n",
        "\n",
        "    # Eliminar dupla negação\n",
        "    formula = eliminar_negacoes(formula)\n",
        "    return formula\n",
        "\n",
        "final=[]\n",
        "for formula in formulas_convertidas:\n",
        "  final.append(forma_normal(formula))\n",
        "mostrar_formula(final)\n",
        "\n"
      ],
      "metadata": {
        "id": "TKXR67EpzZES",
        "colab": {
          "base_uri": "https://localhost:8080/",
          "height": 124
        },
        "outputId": "d00fa123-89b7-4a30-83a3-15f74c252230"
      },
      "execution_count": null,
      "outputs": [
        {
          "output_type": "display_data",
          "data": {
            "text/plain": [
              "<IPython.core.display.Math object>"
            ],
            "text/latex": "$\\displaystyle ∀ u ∃ v (¬ X(u) ∧ ¬ Y(v))$"
          },
          "metadata": {}
        },
        {
          "output_type": "display_data",
          "data": {
            "text/plain": [
              "<IPython.core.display.Math object>"
            ],
            "text/latex": "$\\displaystyle ((¬V ∨ W) ∧ (¬W ∨ V)) ∧ (¬P ∨ ¬ R)$"
          },
          "metadata": {}
        },
        {
          "output_type": "display_data",
          "data": {
            "text/plain": [
              "<IPython.core.display.Math object>"
            ],
            "text/latex": "$\\displaystyle ∀ z ∃ w (¬T(z, w) ∨ U(w))$"
          },
          "metadata": {}
        },
        {
          "output_type": "display_data",
          "data": {
            "text/plain": [
              "<IPython.core.display.Math object>"
            ],
            "text/latex": "$\\displaystyle ∃ y (¬R(y) ∨ ¬ S(y))$"
          },
          "metadata": {}
        },
        {
          "output_type": "display_data",
          "data": {
            "text/plain": [
              "<IPython.core.display.Math object>"
            ],
            "text/latex": "$\\displaystyle ∀ x (P(x) ∧ Q(x))$"
          },
          "metadata": {}
        }
      ]
    }
  ]
}